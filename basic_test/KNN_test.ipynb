{
 "cells": [
  {
   "cell_type": "code",
   "execution_count": 1,
   "metadata": {},
   "outputs": [],
   "source": [
    "import numpy as np\n",
    "import pandas as pd"
   ]
  },
  {
   "cell_type": "code",
   "execution_count": 9,
   "metadata": {},
   "outputs": [],
   "source": [
    "## Reshape\n",
    "original_array = np.array([[[1, 2,1], [3, 4,1]],\n",
    "                            [[5, 6, 2], [7, 8, 2]],\n",
    "                            [[9, 10, 1 ], [11, 12, 1]]])\n"
   ]
  },
  {
   "cell_type": "code",
   "execution_count": 10,
   "metadata": {},
   "outputs": [
    {
     "name": "stdout",
     "output_type": "stream",
     "text": [
      "[[[ 1  2  1]\n",
      "  [ 3  4  1]]\n",
      "\n",
      " [[ 5  6  2]\n",
      "  [ 7  8  2]]\n",
      "\n",
      " [[ 9 10  1]\n",
      "  [11 12  1]]]\n"
     ]
    }
   ],
   "source": [
    "print(original_array)"
   ]
  },
  {
   "cell_type": "code",
   "execution_count": 11,
   "metadata": {},
   "outputs": [
    {
     "name": "stdout",
     "output_type": "stream",
     "text": [
      "original shape (3, 2, 3)\n"
     ]
    }
   ],
   "source": [
    "print(\"original shape\", original_array.shape)"
   ]
  },
  {
   "cell_type": "code",
   "execution_count": 12,
   "metadata": {},
   "outputs": [],
   "source": [
    "flattened_array = original_array.reshape(-1) "
   ]
  },
  {
   "cell_type": "code",
   "execution_count": 13,
   "metadata": {},
   "outputs": [
    {
     "name": "stdout",
     "output_type": "stream",
     "text": [
      "after reshape (18,)\n"
     ]
    }
   ],
   "source": [
    "print(\"after reshape\", flattened_array.shape)"
   ]
  },
  {
   "cell_type": "code",
   "execution_count": 14,
   "metadata": {},
   "outputs": [
    {
     "name": "stdout",
     "output_type": "stream",
     "text": [
      "[ 1  2  1  3  4  1  5  6  2  7  8  2  9 10  1 11 12  1]\n"
     ]
    }
   ],
   "source": [
    "print(flattened_array)"
   ]
  },
  {
   "cell_type": "code",
   "execution_count": 15,
   "metadata": {},
   "outputs": [],
   "source": [
    "restored_array = flattened_array.reshape(original_array.shape)"
   ]
  },
  {
   "cell_type": "code",
   "execution_count": 16,
   "metadata": {},
   "outputs": [
    {
     "name": "stdout",
     "output_type": "stream",
     "text": [
      "restored shape (3, 2, 3)\n"
     ]
    }
   ],
   "source": [
    "print(\"restored shape\", restored_array.shape)"
   ]
  },
  {
   "cell_type": "code",
   "execution_count": 17,
   "metadata": {},
   "outputs": [
    {
     "name": "stdout",
     "output_type": "stream",
     "text": [
      "[[[ 1  2  1]\n",
      "  [ 3  4  1]]\n",
      "\n",
      " [[ 5  6  2]\n",
      "  [ 7  8  2]]\n",
      "\n",
      " [[ 9 10  1]\n",
      "  [11 12  1]]]\n"
     ]
    }
   ],
   "source": [
    "print(restored_array)"
   ]
  },
  {
   "cell_type": "code",
   "execution_count": 18,
   "metadata": {},
   "outputs": [
    {
     "name": "stdout",
     "output_type": "stream",
     "text": [
      "[[[ 1  2  1]\n",
      "  [ 3  4  1]]\n",
      "\n",
      " [[ 5  6  2]\n",
      "  [ 7  8  2]]\n",
      "\n",
      " [[ 9 10  1]\n",
      "  [11 12  1]]]\n"
     ]
    }
   ],
   "source": [
    "print(original_array)"
   ]
  },
  {
   "cell_type": "code",
   "execution_count": 19,
   "metadata": {},
   "outputs": [
    {
     "data": {
      "text/plain": [
       "3"
      ]
     },
     "execution_count": 19,
     "metadata": {},
     "output_type": "execute_result"
    }
   ],
   "source": []
  },
  {
   "cell_type": "code",
   "execution_count": 20,
   "metadata": {},
   "outputs": [
    {
     "data": {
      "text/plain": [
       "array([[ 1,  2,  1,  3,  4,  1],\n",
       "       [ 5,  6,  2,  7,  8,  2],\n",
       "       [ 9, 10,  1, 11, 12,  1]])"
      ]
     },
     "execution_count": 20,
     "metadata": {},
     "output_type": "execute_result"
    }
   ],
   "source": [
    "original_array.reshape(original_array.shape[0], 2*3)"
   ]
  },
  {
   "cell_type": "code",
   "execution_count": 21,
   "metadata": {},
   "outputs": [
    {
     "name": "stdout",
     "output_type": "stream",
     "text": [
      "0\n",
      "1\n",
      "2\n"
     ]
    }
   ],
   "source": [
    "for i in range(3):\n",
    "    print(i)"
   ]
  },
  {
   "cell_type": "code",
   "execution_count": 23,
   "metadata": {},
   "outputs": [],
   "source": [
    "y = np.zeros(5)"
   ]
  },
  {
   "cell_type": "code",
   "execution_count": 24,
   "metadata": {},
   "outputs": [
    {
     "name": "stdout",
     "output_type": "stream",
     "text": [
      "[0. 0. 0. 0. 0.]\n"
     ]
    }
   ],
   "source": [
    "print(y)"
   ]
  },
  {
   "cell_type": "markdown",
   "metadata": {},
   "source": []
  },
  {
   "cell_type": "code",
   "execution_count": 25,
   "metadata": {},
   "outputs": [
    {
     "name": "stdout",
     "output_type": "stream",
     "text": [
      "1\n"
     ]
    }
   ],
   "source": [
    "# argmin \n",
    "# Return the index of min value of the array\n",
    "\n",
    "arr = np.array([3, 1, 4, 1, 5, 9, 2, 6, 5, 3])\n",
    "\n",
    "min_index = np.argmin(arr)\n",
    "\n",
    "print(min_index)  "
   ]
  },
  {
   "cell_type": "code",
   "execution_count": 26,
   "metadata": {},
   "outputs": [
    {
     "name": "stdout",
     "output_type": "stream",
     "text": [
      "[1 0 0]\n"
     ]
    }
   ],
   "source": [
    "# for ndarray\n",
    "\n",
    "arr = np.array([[3, 1, 4],\n",
    "                [1, 5, 9],\n",
    "                [2, 6, 5]])\n",
    "\n",
    "\n",
    "min_indices = np.argmin(arr, axis=1)\n",
    "\n",
    "print(min_indices) \n"
   ]
  },
  {
   "cell_type": "code",
   "execution_count": 1,
   "metadata": {},
   "outputs": [
    {
     "name": "stdout",
     "output_type": "stream",
     "text": [
      "Original array shape: (2, 3)\n",
      "Sum result shape with keepdims=True: (2, 1)\n",
      "Sum result with keepdims=True:\n",
      "[[ 6]\n",
      " [15]]\n"
     ]
    }
   ],
   "source": [
    "# keepdims param\n",
    "import numpy as np\n",
    "\n",
    "arr = np.array([[1, 2, 3],\n",
    "                [4, 5, 6]])\n",
    "\n",
    "# sum and keep dims\n",
    "sum_result = np.sum(arr, axis=1, keepdims=True)\n",
    "\n",
    "print(\"Original array shape:\", arr.shape)\n",
    "print(\"Sum result shape with keepdims=True:\", sum_result.shape)\n",
    "print(\"Sum result with keepdims=True:\")\n",
    "print(sum_result)\n"
   ]
  },
  {
   "cell_type": "code",
   "execution_count": 2,
   "metadata": {},
   "outputs": [
    {
     "name": "stdout",
     "output_type": "stream",
     "text": [
      "Sum result shape with keepdims=False: (2,)\n",
      "Sum result with keepdims=False:\n",
      "[ 6 15]\n"
     ]
    }
   ],
   "source": [
    "# sum and not keep dims\n",
    "sum_result_no_keepdims = np.sum(arr, axis=1)\n",
    "\n",
    "print(\"Sum result shape with keepdims=False:\", sum_result_no_keepdims.shape)\n",
    "print(\"Sum result with keepdims=False:\")\n",
    "print(sum_result_no_keepdims)\n"
   ]
  },
  {
   "cell_type": "code",
   "execution_count": 3,
   "metadata": {},
   "outputs": [],
   "source": [
    "sum_with_keepdims = np.sum(arr, axis=1, keepdims=True)\n",
    "sum_without_keepdims = np.sum(arr, axis=1)"
   ]
  },
  {
   "cell_type": "code",
   "execution_count": 4,
   "metadata": {},
   "outputs": [
    {
     "name": "stdout",
     "output_type": "stream",
     "text": [
      "[[ 6]\n",
      " [15]]\n"
     ]
    }
   ],
   "source": [
    "print(sum_with_keepdims)"
   ]
  },
  {
   "cell_type": "code",
   "execution_count": 5,
   "metadata": {},
   "outputs": [
    {
     "name": "stdout",
     "output_type": "stream",
     "text": [
      "[ 6 15]\n"
     ]
    }
   ],
   "source": [
    "print(sum_without_keepdims)"
   ]
  },
  {
   "cell_type": "code",
   "execution_count": 8,
   "metadata": {},
   "outputs": [],
   "source": [
    "A = np.array([[1, 2],\n",
    "              [3, 4]])"
   ]
  },
  {
   "cell_type": "code",
   "execution_count": 9,
   "metadata": {},
   "outputs": [
    {
     "data": {
      "text/plain": [
       "array([[ 1,  4],\n",
       "       [ 9, 16]])"
      ]
     },
     "execution_count": 9,
     "metadata": {},
     "output_type": "execute_result"
    }
   ],
   "source": [
    "A*A"
   ]
  },
  {
   "cell_type": "code",
   "execution_count": 10,
   "metadata": {},
   "outputs": [
    {
     "data": {
      "text/plain": [
       "array([[ 5, 11],\n",
       "       [11, 25]])"
      ]
     },
     "execution_count": 10,
     "metadata": {},
     "output_type": "execute_result"
    }
   ],
   "source": [
    "A.dot(A.T)"
   ]
  },
  {
   "cell_type": "code",
   "execution_count": 11,
   "metadata": {},
   "outputs": [
    {
     "data": {
      "text/plain": [
       "array([4, 6])"
      ]
     },
     "execution_count": 11,
     "metadata": {},
     "output_type": "execute_result"
    }
   ],
   "source": [
    "sum(A)"
   ]
  },
  {
   "cell_type": "code",
   "execution_count": 14,
   "metadata": {},
   "outputs": [
    {
     "data": {
      "text/plain": [
       "array([3, 7])"
      ]
     },
     "execution_count": 14,
     "metadata": {},
     "output_type": "execute_result"
    }
   ],
   "source": [
    "np.sum(A, axis=1)"
   ]
  },
  {
   "cell_type": "code",
   "execution_count": 15,
   "metadata": {},
   "outputs": [
    {
     "name": "stdout",
     "output_type": "stream",
     "text": [
      "[4 1 2]\n"
     ]
    }
   ],
   "source": [
    "# argsort - return the top k nearest index\n",
    "import numpy as np\n",
    "\n",
    "distances = np.array([3.2, 1.5, 2.7, 4.0, 0.8])\n",
    "\n",
    "K = 3\n",
    "nearest_indices = np.argsort(distances)[:K]\n",
    "\n",
    "print(nearest_indices)\n"
   ]
  },
  {
   "cell_type": "code",
   "execution_count": 22,
   "metadata": {},
   "outputs": [
    {
     "name": "stdout",
     "output_type": "stream",
     "text": [
      "Array: [7 3 3 3 4 4 4 4 4]\n",
      "Counts: [0 0 0 3 5 0 0 1]\n",
      "Most common value: 4\n"
     ]
    }
   ],
   "source": [
    "# bincount and argmax\n",
    "arr = np.array([7, 3, 3, 3, 4, 4, 4, 4, 4])\n",
    "\n",
    "counts = np.bincount(arr)\n",
    "most_common_value = np.argmax(counts)\n",
    "\n",
    "print(\"Array:\", arr)\n",
    "print(\"Counts:\", counts)\n",
    "print(\"Most common value:\", most_common_value)\n"
   ]
  },
  {
   "cell_type": "code",
   "execution_count": 23,
   "metadata": {},
   "outputs": [
    {
     "name": "stdout",
     "output_type": "stream",
     "text": [
      "[array([1, 2, 3, 4]), array([5, 6, 7]), array([ 8,  9, 10])]\n"
     ]
    }
   ],
   "source": [
    "# array_split\n",
    "\n",
    "arr = np.array([1, 2, 3, 4, 5, 6, 7, 8, 9, 10])\n",
    "\n",
    "\n",
    "sub_arrays = np.array_split(arr, 3)\n",
    "print(sub_arrays)"
   ]
  },
  {
   "cell_type": "code",
   "execution_count": 24,
   "metadata": {},
   "outputs": [
    {
     "name": "stdout",
     "output_type": "stream",
     "text": [
      "[array([1, 2]), array([3, 4, 5]), array([ 6,  7,  8,  9, 10])]\n"
     ]
    }
   ],
   "source": [
    "\n",
    "sub_arrays = np.array_split(arr, [2, 5])\n",
    "print(sub_arrays)\n"
   ]
  },
  {
   "cell_type": "code",
   "execution_count": 25,
   "metadata": {},
   "outputs": [
    {
     "name": "stdout",
     "output_type": "stream",
     "text": [
      "Index 0: apple\n",
      "Index 1: banana\n",
      "Index 2: cherry\n"
     ]
    }
   ],
   "source": [
    "# enumerate\n",
    "fruits = ['apple', 'banana', 'cherry']\n",
    "\n",
    "for index, fruit in enumerate(fruits):\n",
    "    print(f\"Index {index}: {fruit}\")"
   ]
  },
  {
   "cell_type": "markdown",
   "metadata": {},
   "source": [
    "i = 1\n",
    "selected_folds = []\n",
    "for j, fold in enumerate(fruits):\n",
    "    if i!=j:\n",
    "        selected_folds.append(fold)\n",
    "\n",
    "print(selected_folds)"
   ]
  },
  {
   "cell_type": "code",
   "execution_count": 29,
   "metadata": {},
   "outputs": [
    {
     "name": "stdout",
     "output_type": "stream",
     "text": [
      "['banana', 'cherry']\n"
     ]
    }
   ],
   "source": [
    "i=0\n",
    "my_folds = [fold for j, fold in enumerate(fruits) if i !=j]\n",
    "print(my_folds)"
   ]
  },
  {
   "cell_type": "code",
   "execution_count": null,
   "metadata": {},
   "outputs": [],
   "source": [
    "# https://github.com/jariasf/CS231n/blob/master/assignment1/cs231n/classifiers/linear_svm.py"
   ]
  }
 ],
 "metadata": {
  "kernelspec": {
   "display_name": "base",
   "language": "python",
   "name": "python3"
  },
  "language_info": {
   "codemirror_mode": {
    "name": "ipython",
    "version": 3
   },
   "file_extension": ".py",
   "mimetype": "text/x-python",
   "name": "python",
   "nbconvert_exporter": "python",
   "pygments_lexer": "ipython3",
   "version": "3.11.5"
  },
  "orig_nbformat": 4
 },
 "nbformat": 4,
 "nbformat_minor": 2
}
