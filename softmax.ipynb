{
  "cells": [
    {
      "cell_type": "markdown",
      "metadata": {
        "id": "view-in-github",
        "colab_type": "text"
      },
      "source": [
        "<a href=\"https://colab.research.google.com/github/Jasmine-sizhe/utah-deep-learning/blob/main/softmax.ipynb\" target=\"_parent\"><img src=\"https://colab.research.google.com/assets/colab-badge.svg\" alt=\"Open In Colab\"/></a>"
      ]
    },
    {
      "cell_type": "code",
      "execution_count": 2,
      "metadata": {
        "colab": {
          "base_uri": "https://localhost:8080/"
        },
        "id": "ZzFbK0a1iHEp",
        "outputId": "e74de69c-23cd-4b1a-fc5a-c71b0ca72f71"
      },
      "outputs": [
        {
          "output_type": "stream",
          "name": "stdout",
          "text": [
            "Mounted at /content/drive\n",
            "/content/drive/My Drive/cs6353/assignments/assignment1/cs6353/datasets\n",
            "--2023-09-26 21:02:01--  http://www.cs.toronto.edu/~kriz/cifar-10-python.tar.gz\n",
            "Resolving www.cs.toronto.edu (www.cs.toronto.edu)... 128.100.3.30\n",
            "Connecting to www.cs.toronto.edu (www.cs.toronto.edu)|128.100.3.30|:80... connected.\n",
            "HTTP request sent, awaiting response... 200 OK\n",
            "Length: 170498071 (163M) [application/x-gzip]\n",
            "Saving to: ‘cifar-10-python.tar.gz’\n",
            "\n",
            "cifar-10-python.tar 100%[===================>] 162.60M  36.3MB/s    in 4.8s    \n",
            "\n",
            "2023-09-26 21:02:06 (33.6 MB/s) - ‘cifar-10-python.tar.gz’ saved [170498071/170498071]\n",
            "\n",
            "cifar-10-batches-py/\n",
            "cifar-10-batches-py/data_batch_4\n",
            "cifar-10-batches-py/readme.html\n",
            "cifar-10-batches-py/test_batch\n",
            "cifar-10-batches-py/data_batch_3\n",
            "cifar-10-batches-py/batches.meta\n",
            "cifar-10-batches-py/data_batch_2\n",
            "cifar-10-batches-py/data_batch_5\n",
            "cifar-10-batches-py/data_batch_1\n",
            "/content/drive/My Drive/cs6353/assignments/assignment1\n",
            "Requirement already satisfied: anyio==3.7.1 in /usr/local/lib/python3.10/dist-packages (from -r /content/drive/My Drive/cs6353/assignments/assignment1//colab_requirements.txt (line 1)) (3.7.1)\n",
            "Collecting appnope==0.1.3 (from -r /content/drive/My Drive/cs6353/assignments/assignment1//colab_requirements.txt (line 2))\n",
            "  Downloading appnope-0.1.3-py2.py3-none-any.whl (4.4 kB)\n",
            "Requirement already satisfied: argon2-cffi==23.1.0 in /usr/local/lib/python3.10/dist-packages (from -r /content/drive/My Drive/cs6353/assignments/assignment1//colab_requirements.txt (line 3)) (23.1.0)\n",
            "Requirement already satisfied: argon2-cffi-bindings==21.2.0 in /usr/local/lib/python3.10/dist-packages (from -r /content/drive/My Drive/cs6353/assignments/assignment1//colab_requirements.txt (line 4)) (21.2.0)\n",
            "Collecting arrow==1.2.3 (from -r /content/drive/My Drive/cs6353/assignments/assignment1//colab_requirements.txt (line 5))\n",
            "  Downloading arrow-1.2.3-py3-none-any.whl (66 kB)\n",
            "\u001b[2K     \u001b[90m━━━━━━━━━━━━━━━━━━━━━━━━━━━━━━━━━━━━━━━━\u001b[0m \u001b[32m66.4/66.4 kB\u001b[0m \u001b[31m2.0 MB/s\u001b[0m eta \u001b[36m0:00:00\u001b[0m\n",
            "\u001b[?25hCollecting asttokens==2.2.1 (from -r /content/drive/My Drive/cs6353/assignments/assignment1//colab_requirements.txt (line 6))\n",
            "  Downloading asttokens-2.2.1-py2.py3-none-any.whl (26 kB)\n",
            "Collecting async-lru==2.0.4 (from -r /content/drive/My Drive/cs6353/assignments/assignment1//colab_requirements.txt (line 7))\n",
            "  Downloading async_lru-2.0.4-py3-none-any.whl (6.1 kB)\n",
            "Requirement already satisfied: attrs==23.1.0 in /usr/local/lib/python3.10/dist-packages (from -r /content/drive/My Drive/cs6353/assignments/assignment1//colab_requirements.txt (line 8)) (23.1.0)\n",
            "Requirement already satisfied: Babel==2.12.1 in /usr/local/lib/python3.10/dist-packages (from -r /content/drive/My Drive/cs6353/assignments/assignment1//colab_requirements.txt (line 9)) (2.12.1)\n",
            "Requirement already satisfied: backcall==0.2.0 in /usr/local/lib/python3.10/dist-packages (from -r /content/drive/My Drive/cs6353/assignments/assignment1//colab_requirements.txt (line 10)) (0.2.0)\n",
            "Collecting beautifulsoup4==4.12.2 (from -r /content/drive/My Drive/cs6353/assignments/assignment1//colab_requirements.txt (line 11))\n",
            "  Downloading beautifulsoup4-4.12.2-py3-none-any.whl (142 kB)\n",
            "\u001b[2K     \u001b[90m━━━━━━━━━━━━━━━━━━━━━━━━━━━━━━━━━━━━━━━\u001b[0m \u001b[32m143.0/143.0 kB\u001b[0m \u001b[31m4.4 MB/s\u001b[0m eta \u001b[36m0:00:00\u001b[0m\n",
            "\u001b[?25hRequirement already satisfied: bleach==6.0.0 in /usr/local/lib/python3.10/dist-packages (from -r /content/drive/My Drive/cs6353/assignments/assignment1//colab_requirements.txt (line 12)) (6.0.0)\n",
            "Requirement already satisfied: certifi==2023.7.22 in /usr/local/lib/python3.10/dist-packages (from -r /content/drive/My Drive/cs6353/assignments/assignment1//colab_requirements.txt (line 13)) (2023.7.22)\n",
            "Requirement already satisfied: cffi==1.15.1 in /usr/local/lib/python3.10/dist-packages (from -r /content/drive/My Drive/cs6353/assignments/assignment1//colab_requirements.txt (line 14)) (1.15.1)\n",
            "Requirement already satisfied: charset-normalizer==3.2.0 in /usr/local/lib/python3.10/dist-packages (from -r /content/drive/My Drive/cs6353/assignments/assignment1//colab_requirements.txt (line 15)) (3.2.0)\n",
            "Collecting comm==0.1.4 (from -r /content/drive/My Drive/cs6353/assignments/assignment1//colab_requirements.txt (line 16))\n",
            "  Downloading comm-0.1.4-py3-none-any.whl (6.6 kB)\n",
            "Requirement already satisfied: contourpy==1.1.0 in /usr/local/lib/python3.10/dist-packages (from -r /content/drive/My Drive/cs6353/assignments/assignment1//colab_requirements.txt (line 17)) (1.1.0)\n",
            "Requirement already satisfied: cycler==0.11.0 in /usr/local/lib/python3.10/dist-packages (from -r /content/drive/My Drive/cs6353/assignments/assignment1//colab_requirements.txt (line 18)) (0.11.0)\n",
            "Collecting debugpy==1.6.7.post1 (from -r /content/drive/My Drive/cs6353/assignments/assignment1//colab_requirements.txt (line 19))\n",
            "  Downloading debugpy-1.6.7.post1-cp310-cp310-manylinux_2_17_x86_64.manylinux2014_x86_64.whl (3.0 MB)\n",
            "\u001b[2K     \u001b[90m━━━━━━━━━━━━━━━━━━━━━━━━━━━━━━━━━━━━━━━━\u001b[0m \u001b[32m3.0/3.0 MB\u001b[0m \u001b[31m11.2 MB/s\u001b[0m eta \u001b[36m0:00:00\u001b[0m\n",
            "\u001b[?25hRequirement already satisfied: decorator<=5.0 in /usr/local/lib/python3.10/dist-packages (from -r /content/drive/My Drive/cs6353/assignments/assignment1//colab_requirements.txt (line 20)) (4.4.2)\n",
            "Requirement already satisfied: defusedxml==0.7.1 in /usr/local/lib/python3.10/dist-packages (from -r /content/drive/My Drive/cs6353/assignments/assignment1//colab_requirements.txt (line 21)) (0.7.1)\n",
            "Collecting executing==1.2.0 (from -r /content/drive/My Drive/cs6353/assignments/assignment1//colab_requirements.txt (line 22))\n",
            "  Downloading executing-1.2.0-py2.py3-none-any.whl (24 kB)\n",
            "Requirement already satisfied: fastjsonschema==2.18.0 in /usr/local/lib/python3.10/dist-packages (from -r /content/drive/My Drive/cs6353/assignments/assignment1//colab_requirements.txt (line 23)) (2.18.0)\n",
            "Requirement already satisfied: fonttools==4.42.1 in /usr/local/lib/python3.10/dist-packages (from -r /content/drive/My Drive/cs6353/assignments/assignment1//colab_requirements.txt (line 24)) (4.42.1)\n",
            "Collecting fqdn==1.5.1 (from -r /content/drive/My Drive/cs6353/assignments/assignment1//colab_requirements.txt (line 25))\n",
            "  Downloading fqdn-1.5.1-py3-none-any.whl (9.1 kB)\n",
            "Requirement already satisfied: idna==3.4 in /usr/local/lib/python3.10/dist-packages (from -r /content/drive/My Drive/cs6353/assignments/assignment1//colab_requirements.txt (line 26)) (3.4)\n",
            "Collecting imageio==2.31.1 (from -r /content/drive/My Drive/cs6353/assignments/assignment1//colab_requirements.txt (line 27))\n",
            "  Downloading imageio-2.31.1-py3-none-any.whl (313 kB)\n",
            "\u001b[2K     \u001b[90m━━━━━━━━━━━━━━━━━━━━━━━━━━━━━━━━━━━━━━━\u001b[0m \u001b[32m313.2/313.2 kB\u001b[0m \u001b[31m2.3 MB/s\u001b[0m eta \u001b[36m0:00:00\u001b[0m\n",
            "\u001b[?25hRequirement already satisfied: ipykernel<=5.5.6 in /usr/local/lib/python3.10/dist-packages (from -r /content/drive/My Drive/cs6353/assignments/assignment1//colab_requirements.txt (line 28)) (5.5.6)\n",
            "Requirement already satisfied: ipython<=7.34.0 in /usr/local/lib/python3.10/dist-packages (from -r /content/drive/My Drive/cs6353/assignments/assignment1//colab_requirements.txt (line 29)) (7.34.0)\n",
            "Collecting isoduration==20.11.0 (from -r /content/drive/My Drive/cs6353/assignments/assignment1//colab_requirements.txt (line 30))\n",
            "  Downloading isoduration-20.11.0-py3-none-any.whl (11 kB)\n",
            "Collecting jedi==0.19.0 (from -r /content/drive/My Drive/cs6353/assignments/assignment1//colab_requirements.txt (line 31))\n",
            "  Downloading jedi-0.19.0-py2.py3-none-any.whl (1.6 MB)\n",
            "\u001b[2K     \u001b[90m━━━━━━━━━━━━━━━━━━━━━━━━━━━━━━━━━━━━━━━━\u001b[0m \u001b[32m1.6/1.6 MB\u001b[0m \u001b[31m18.4 MB/s\u001b[0m eta \u001b[36m0:00:00\u001b[0m\n",
            "\u001b[?25hRequirement already satisfied: Jinja2==3.1.2 in /usr/local/lib/python3.10/dist-packages (from -r /content/drive/My Drive/cs6353/assignments/assignment1//colab_requirements.txt (line 32)) (3.1.2)\n",
            "Collecting json5==0.9.14 (from -r /content/drive/My Drive/cs6353/assignments/assignment1//colab_requirements.txt (line 33))\n",
            "  Downloading json5-0.9.14-py2.py3-none-any.whl (19 kB)\n",
            "Collecting jsonpointer==2.4 (from -r /content/drive/My Drive/cs6353/assignments/assignment1//colab_requirements.txt (line 34))\n",
            "  Downloading jsonpointer-2.4-py2.py3-none-any.whl (7.8 kB)\n",
            "Requirement already satisfied: jsonschema==4.19.0 in /usr/local/lib/python3.10/dist-packages (from -r /content/drive/My Drive/cs6353/assignments/assignment1//colab_requirements.txt (line 35)) (4.19.0)\n",
            "Requirement already satisfied: jsonschema-specifications==2023.7.1 in /usr/local/lib/python3.10/dist-packages (from -r /content/drive/My Drive/cs6353/assignments/assignment1//colab_requirements.txt (line 36)) (2023.7.1)\n",
            "Collecting jupyter-events==0.7.0 (from -r /content/drive/My Drive/cs6353/assignments/assignment1//colab_requirements.txt (line 37))\n",
            "  Downloading jupyter_events-0.7.0-py3-none-any.whl (18 kB)\n",
            "Collecting jupyter-lsp==2.2.0 (from -r /content/drive/My Drive/cs6353/assignments/assignment1//colab_requirements.txt (line 38))\n",
            "  Downloading jupyter_lsp-2.2.0-py3-none-any.whl (65 kB)\n",
            "\u001b[2K     \u001b[90m━━━━━━━━━━━━━━━━━━━━━━━━━━━━━━━━━━━━━━━━\u001b[0m \u001b[32m66.0/66.0 kB\u001b[0m \u001b[31m10.1 MB/s\u001b[0m eta \u001b[36m0:00:00\u001b[0m\n",
            "\u001b[?25hRequirement already satisfied: jupyter_client<8.0 in /usr/local/lib/python3.10/dist-packages (from -r /content/drive/My Drive/cs6353/assignments/assignment1//colab_requirements.txt (line 39)) (6.1.12)\n",
            "Requirement already satisfied: jupyter_core==5.3.1 in /usr/local/lib/python3.10/dist-packages (from -r /content/drive/My Drive/cs6353/assignments/assignment1//colab_requirements.txt (line 40)) (5.3.1)\n",
            "Collecting jupyter_server==2.7.2 (from -r /content/drive/My Drive/cs6353/assignments/assignment1//colab_requirements.txt (line 41))\n",
            "  Downloading jupyter_server-2.7.2-py3-none-any.whl (375 kB)\n",
            "\u001b[2K     \u001b[90m━━━━━━━━━━━━━━━━━━━━━━━━━━━━━━━━━━━━━━\u001b[0m \u001b[32m375.3/375.3 kB\u001b[0m \u001b[31m25.3 MB/s\u001b[0m eta \u001b[36m0:00:00\u001b[0m\n",
            "\u001b[?25hCollecting jupyter_server_terminals==0.4.4 (from -r /content/drive/My Drive/cs6353/assignments/assignment1//colab_requirements.txt (line 42))\n",
            "  Downloading jupyter_server_terminals-0.4.4-py3-none-any.whl (13 kB)\n",
            "Collecting jupyterlab==4.0.5 (from -r /content/drive/My Drive/cs6353/assignments/assignment1//colab_requirements.txt (line 43))\n",
            "  Downloading jupyterlab-4.0.5-py3-none-any.whl (9.2 MB)\n",
            "\u001b[2K     \u001b[90m━━━━━━━━━━━━━━━━━━━━━━━━━━━━━━━━━━━━━━━━\u001b[0m \u001b[32m9.2/9.2 MB\u001b[0m \u001b[31m54.1 MB/s\u001b[0m eta \u001b[36m0:00:00\u001b[0m\n",
            "\u001b[?25hRequirement already satisfied: jupyterlab-pygments==0.2.2 in /usr/local/lib/python3.10/dist-packages (from -r /content/drive/My Drive/cs6353/assignments/assignment1//colab_requirements.txt (line 44)) (0.2.2)\n",
            "Collecting jupyterlab_server==2.24.0 (from -r /content/drive/My Drive/cs6353/assignments/assignment1//colab_requirements.txt (line 45))\n",
            "  Downloading jupyterlab_server-2.24.0-py3-none-any.whl (57 kB)\n",
            "\u001b[2K     \u001b[90m━━━━━━━━━━━━━━━━━━━━━━━━━━━━━━━━━━━━━━━━\u001b[0m \u001b[32m57.3/57.3 kB\u001b[0m \u001b[31m8.9 MB/s\u001b[0m eta \u001b[36m0:00:00\u001b[0m\n",
            "\u001b[?25hRequirement already satisfied: kiwisolver==1.4.5 in /usr/local/lib/python3.10/dist-packages (from -r /content/drive/My Drive/cs6353/assignments/assignment1//colab_requirements.txt (line 46)) (1.4.5)\n",
            "Requirement already satisfied: MarkupSafe==2.1.3 in /usr/local/lib/python3.10/dist-packages (from -r /content/drive/My Drive/cs6353/assignments/assignment1//colab_requirements.txt (line 47)) (2.1.3)\n",
            "Collecting matplotlib==3.7.2 (from -r /content/drive/My Drive/cs6353/assignments/assignment1//colab_requirements.txt (line 48))\n",
            "  Downloading matplotlib-3.7.2-cp310-cp310-manylinux_2_17_x86_64.manylinux2014_x86_64.whl (11.6 MB)\n",
            "\u001b[2K     \u001b[90m━━━━━━━━━━━━━━━━━━━━━━━━━━━━━━━━━━━━━━━━\u001b[0m \u001b[32m11.6/11.6 MB\u001b[0m \u001b[31m85.8 MB/s\u001b[0m eta \u001b[36m0:00:00\u001b[0m\n",
            "\u001b[?25hRequirement already satisfied: matplotlib-inline==0.1.6 in /usr/local/lib/python3.10/dist-packages (from -r /content/drive/My Drive/cs6353/assignments/assignment1//colab_requirements.txt (line 49)) (0.1.6)\n",
            "Collecting mistune==3.0.1 (from -r /content/drive/My Drive/cs6353/assignments/assignment1//colab_requirements.txt (line 50))\n",
            "  Downloading mistune-3.0.1-py3-none-any.whl (47 kB)\n",
            "\u001b[2K     \u001b[90m━━━━━━━━━━━━━━━━━━━━━━━━━━━━━━━━━━━━━━━━\u001b[0m \u001b[32m48.0/48.0 kB\u001b[0m \u001b[31m6.7 MB/s\u001b[0m eta \u001b[36m0:00:00\u001b[0m\n",
            "\u001b[?25hRequirement already satisfied: nbclient==0.8.0 in /usr/local/lib/python3.10/dist-packages (from -r /content/drive/My Drive/cs6353/assignments/assignment1//colab_requirements.txt (line 51)) (0.8.0)\n",
            "Collecting nbconvert==7.7.4 (from -r /content/drive/My Drive/cs6353/assignments/assignment1//colab_requirements.txt (line 52))\n",
            "  Downloading nbconvert-7.7.4-py3-none-any.whl (254 kB)\n",
            "\u001b[2K     \u001b[90m━━━━━━━━━━━━━━━━━━━━━━━━━━━━━━━━━━━━━━\u001b[0m \u001b[32m254.6/254.6 kB\u001b[0m \u001b[31m30.9 MB/s\u001b[0m eta \u001b[36m0:00:00\u001b[0m\n",
            "\u001b[?25hRequirement already satisfied: nbformat==5.9.2 in /usr/local/lib/python3.10/dist-packages (from -r /content/drive/My Drive/cs6353/assignments/assignment1//colab_requirements.txt (line 53)) (5.9.2)\n",
            "Requirement already satisfied: nest-asyncio==1.5.7 in /usr/local/lib/python3.10/dist-packages (from -r /content/drive/My Drive/cs6353/assignments/assignment1//colab_requirements.txt (line 54)) (1.5.7)\n",
            "Requirement already satisfied: notebook_shim==0.2.3 in /usr/local/lib/python3.10/dist-packages (from -r /content/drive/My Drive/cs6353/assignments/assignment1//colab_requirements.txt (line 55)) (0.2.3)\n",
            "Requirement already satisfied: numpy<1.24,>=1.22 in /usr/local/lib/python3.10/dist-packages (from -r /content/drive/My Drive/cs6353/assignments/assignment1//colab_requirements.txt (line 56)) (1.23.5)\n",
            "Collecting overrides==7.4.0 (from -r /content/drive/My Drive/cs6353/assignments/assignment1//colab_requirements.txt (line 57))\n",
            "  Downloading overrides-7.4.0-py3-none-any.whl (17 kB)\n",
            "Requirement already satisfied: packaging==23.1 in /usr/local/lib/python3.10/dist-packages (from -r /content/drive/My Drive/cs6353/assignments/assignment1//colab_requirements.txt (line 58)) (23.1)\n",
            "Requirement already satisfied: pandas<=1.5.3 in /usr/local/lib/python3.10/dist-packages (from -r /content/drive/My Drive/cs6353/assignments/assignment1//colab_requirements.txt (line 59)) (1.5.3)\n",
            "Requirement already satisfied: pandocfilters==1.5.0 in /usr/local/lib/python3.10/dist-packages (from -r /content/drive/My Drive/cs6353/assignments/assignment1//colab_requirements.txt (line 60)) (1.5.0)\n",
            "Requirement already satisfied: parso==0.8.3 in /usr/local/lib/python3.10/dist-packages (from -r /content/drive/My Drive/cs6353/assignments/assignment1//colab_requirements.txt (line 61)) (0.8.3)\n",
            "Requirement already satisfied: pexpect==4.8.0 in /usr/local/lib/python3.10/dist-packages (from -r /content/drive/My Drive/cs6353/assignments/assignment1//colab_requirements.txt (line 62)) (4.8.0)\n",
            "Requirement already satisfied: pickleshare==0.7.5 in /usr/local/lib/python3.10/dist-packages (from -r /content/drive/My Drive/cs6353/assignments/assignment1//colab_requirements.txt (line 63)) (0.7.5)\n",
            "Collecting Pillow==10.0.0 (from -r /content/drive/My Drive/cs6353/assignments/assignment1//colab_requirements.txt (line 64))\n",
            "  Downloading Pillow-10.0.0-cp310-cp310-manylinux_2_28_x86_64.whl (3.4 MB)\n",
            "\u001b[2K     \u001b[90m━━━━━━━━━━━━━━━━━━━━━━━━━━━━━━━━━━━━━━━━\u001b[0m \u001b[32m3.4/3.4 MB\u001b[0m \u001b[31m87.0 MB/s\u001b[0m eta \u001b[36m0:00:00\u001b[0m\n",
            "\u001b[?25hRequirement already satisfied: platformdirs==3.10.0 in /usr/local/lib/python3.10/dist-packages (from -r /content/drive/My Drive/cs6353/assignments/assignment1//colab_requirements.txt (line 65)) (3.10.0)\n",
            "Requirement already satisfied: prometheus-client==0.17.1 in /usr/local/lib/python3.10/dist-packages (from -r /content/drive/My Drive/cs6353/assignments/assignment1//colab_requirements.txt (line 66)) (0.17.1)\n",
            "Requirement already satisfied: prompt-toolkit==3.0.39 in /usr/local/lib/python3.10/dist-packages (from -r /content/drive/My Drive/cs6353/assignments/assignment1//colab_requirements.txt (line 67)) (3.0.39)\n",
            "Requirement already satisfied: psutil==5.9.5 in /usr/local/lib/python3.10/dist-packages (from -r /content/drive/My Drive/cs6353/assignments/assignment1//colab_requirements.txt (line 68)) (5.9.5)\n",
            "Requirement already satisfied: ptyprocess==0.7.0 in /usr/local/lib/python3.10/dist-packages (from -r /content/drive/My Drive/cs6353/assignments/assignment1//colab_requirements.txt (line 69)) (0.7.0)\n",
            "Collecting pure-eval==0.2.2 (from -r /content/drive/My Drive/cs6353/assignments/assignment1//colab_requirements.txt (line 70))\n",
            "  Downloading pure_eval-0.2.2-py3-none-any.whl (11 kB)\n",
            "Requirement already satisfied: pycparser==2.21 in /usr/local/lib/python3.10/dist-packages (from -r /content/drive/My Drive/cs6353/assignments/assignment1//colab_requirements.txt (line 71)) (2.21)\n",
            "Requirement already satisfied: Pygments==2.16.1 in /usr/local/lib/python3.10/dist-packages (from -r /content/drive/My Drive/cs6353/assignments/assignment1//colab_requirements.txt (line 72)) (2.16.1)\n",
            "Collecting pyparsing==3.0.9 (from -r /content/drive/My Drive/cs6353/assignments/assignment1//colab_requirements.txt (line 73))\n",
            "  Downloading pyparsing-3.0.9-py3-none-any.whl (98 kB)\n",
            "\u001b[2K     \u001b[90m━━━━━━━━━━━━━━━━━━━━━━━━━━━━━━━━━━━━━━━━\u001b[0m \u001b[32m98.3/98.3 kB\u001b[0m \u001b[31m14.2 MB/s\u001b[0m eta \u001b[36m0:00:00\u001b[0m\n",
            "\u001b[?25hRequirement already satisfied: python-dateutil==2.8.2 in /usr/local/lib/python3.10/dist-packages (from -r /content/drive/My Drive/cs6353/assignments/assignment1//colab_requirements.txt (line 74)) (2.8.2)\n",
            "Collecting python-json-logger==2.0.7 (from -r /content/drive/My Drive/cs6353/assignments/assignment1//colab_requirements.txt (line 75))\n",
            "  Downloading python_json_logger-2.0.7-py3-none-any.whl (8.1 kB)\n",
            "Collecting pytz==2023.3 (from -r /content/drive/My Drive/cs6353/assignments/assignment1//colab_requirements.txt (line 76))\n",
            "  Downloading pytz-2023.3-py2.py3-none-any.whl (502 kB)\n",
            "\u001b[2K     \u001b[90m━━━━━━━━━━━━━━━━━━━━━━━━━━━━━━━━━━━━━━\u001b[0m \u001b[32m502.3/502.3 kB\u001b[0m \u001b[31m48.2 MB/s\u001b[0m eta \u001b[36m0:00:00\u001b[0m\n",
            "\u001b[?25hRequirement already satisfied: PyYAML==6.0.1 in /usr/local/lib/python3.10/dist-packages (from -r /content/drive/My Drive/cs6353/assignments/assignment1//colab_requirements.txt (line 77)) (6.0.1)\n",
            "Requirement already satisfied: pyzmq<25 in /usr/local/lib/python3.10/dist-packages (from -r /content/drive/My Drive/cs6353/assignments/assignment1//colab_requirements.txt (line 78)) (23.2.1)\n",
            "Requirement already satisfied: referencing==0.30.2 in /usr/local/lib/python3.10/dist-packages (from -r /content/drive/My Drive/cs6353/assignments/assignment1//colab_requirements.txt (line 79)) (0.30.2)\n",
            "Requirement already satisfied: requests==2.31.0 in /usr/local/lib/python3.10/dist-packages (from -r /content/drive/My Drive/cs6353/assignments/assignment1//colab_requirements.txt (line 80)) (2.31.0)\n",
            "Collecting rfc3339-validator==0.1.4 (from -r /content/drive/My Drive/cs6353/assignments/assignment1//colab_requirements.txt (line 81))\n",
            "  Downloading rfc3339_validator-0.1.4-py2.py3-none-any.whl (3.5 kB)\n",
            "Collecting rfc3986-validator==0.1.1 (from -r /content/drive/My Drive/cs6353/assignments/assignment1//colab_requirements.txt (line 82))\n",
            "  Downloading rfc3986_validator-0.1.1-py2.py3-none-any.whl (4.2 kB)\n",
            "Collecting rpds-py==0.9.2 (from -r /content/drive/My Drive/cs6353/assignments/assignment1//colab_requirements.txt (line 83))\n",
            "  Downloading rpds_py-0.9.2-cp310-cp310-manylinux_2_17_x86_64.manylinux2014_x86_64.whl (1.2 MB)\n",
            "\u001b[2K     \u001b[90m━━━━━━━━━━━━━━━━━━━━━━━━━━━━━━━━━━━━━━━━\u001b[0m \u001b[32m1.2/1.2 MB\u001b[0m \u001b[31m41.6 MB/s\u001b[0m eta \u001b[36m0:00:00\u001b[0m\n",
            "\u001b[?25hRequirement already satisfied: scipy==1.11.2 in /usr/local/lib/python3.10/dist-packages (from -r /content/drive/My Drive/cs6353/assignments/assignment1//colab_requirements.txt (line 84)) (1.11.2)\n",
            "Requirement already satisfied: seaborn==0.12.2 in /usr/local/lib/python3.10/dist-packages (from -r /content/drive/My Drive/cs6353/assignments/assignment1//colab_requirements.txt (line 85)) (0.12.2)\n",
            "Requirement already satisfied: Send2Trash==1.8.2 in /usr/local/lib/python3.10/dist-packages (from -r /content/drive/My Drive/cs6353/assignments/assignment1//colab_requirements.txt (line 86)) (1.8.2)\n",
            "Requirement already satisfied: six==1.16.0 in /usr/local/lib/python3.10/dist-packages (from -r /content/drive/My Drive/cs6353/assignments/assignment1//colab_requirements.txt (line 87)) (1.16.0)\n",
            "Requirement already satisfied: sniffio==1.3.0 in /usr/local/lib/python3.10/dist-packages (from -r /content/drive/My Drive/cs6353/assignments/assignment1//colab_requirements.txt (line 88)) (1.3.0)\n",
            "Collecting soupsieve==2.4.1 (from -r /content/drive/My Drive/cs6353/assignments/assignment1//colab_requirements.txt (line 89))\n",
            "  Downloading soupsieve-2.4.1-py3-none-any.whl (36 kB)\n",
            "Collecting stack-data==0.6.2 (from -r /content/drive/My Drive/cs6353/assignments/assignment1//colab_requirements.txt (line 90))\n",
            "  Downloading stack_data-0.6.2-py3-none-any.whl (24 kB)\n",
            "Requirement already satisfied: terminado==0.17.1 in /usr/local/lib/python3.10/dist-packages (from -r /content/drive/My Drive/cs6353/assignments/assignment1//colab_requirements.txt (line 91)) (0.17.1)\n",
            "Requirement already satisfied: tinycss2==1.2.1 in /usr/local/lib/python3.10/dist-packages (from -r /content/drive/My Drive/cs6353/assignments/assignment1//colab_requirements.txt (line 92)) (1.2.1)\n",
            "Requirement already satisfied: tornado<=6.3.2 in /usr/local/lib/python3.10/dist-packages (from -r /content/drive/My Drive/cs6353/assignments/assignment1//colab_requirements.txt (line 93)) (6.3.2)\n",
            "Collecting traitlets==5.9.0 (from -r /content/drive/My Drive/cs6353/assignments/assignment1//colab_requirements.txt (line 94))\n",
            "  Downloading traitlets-5.9.0-py3-none-any.whl (117 kB)\n",
            "\u001b[2K     \u001b[90m━━━━━━━━━━━━━━━━━━━━━━━━━━━━━━━━━━━━━━\u001b[0m \u001b[32m117.4/117.4 kB\u001b[0m \u001b[31m17.4 MB/s\u001b[0m eta \u001b[36m0:00:00\u001b[0m\n",
            "\u001b[?25hCollecting tzdata==2023.3 (from -r /content/drive/My Drive/cs6353/assignments/assignment1//colab_requirements.txt (line 95))\n",
            "  Downloading tzdata-2023.3-py2.py3-none-any.whl (341 kB)\n",
            "\u001b[2K     \u001b[90m━━━━━━━━━━━━━━━━━━━━━━━━━━━━━━━━━━━━━━\u001b[0m \u001b[32m341.8/341.8 kB\u001b[0m \u001b[31m34.9 MB/s\u001b[0m eta \u001b[36m0:00:00\u001b[0m\n",
            "\u001b[?25hCollecting uri-template==1.3.0 (from -r /content/drive/My Drive/cs6353/assignments/assignment1//colab_requirements.txt (line 96))\n",
            "  Downloading uri_template-1.3.0-py3-none-any.whl (11 kB)\n",
            "Requirement already satisfied: urllib3==2.0.4 in /usr/local/lib/python3.10/dist-packages (from -r /content/drive/My Drive/cs6353/assignments/assignment1//colab_requirements.txt (line 97)) (2.0.4)\n",
            "Requirement already satisfied: wcwidth==0.2.6 in /usr/local/lib/python3.10/dist-packages (from -r /content/drive/My Drive/cs6353/assignments/assignment1//colab_requirements.txt (line 98)) (0.2.6)\n",
            "Requirement already satisfied: webcolors==1.13 in /usr/local/lib/python3.10/dist-packages (from -r /content/drive/My Drive/cs6353/assignments/assignment1//colab_requirements.txt (line 99)) (1.13)\n",
            "Requirement already satisfied: webencodings==0.5.1 in /usr/local/lib/python3.10/dist-packages (from -r /content/drive/My Drive/cs6353/assignments/assignment1//colab_requirements.txt (line 100)) (0.5.1)\n",
            "Requirement already satisfied: websocket-client==1.6.2 in /usr/local/lib/python3.10/dist-packages (from -r /content/drive/My Drive/cs6353/assignments/assignment1//colab_requirements.txt (line 101)) (1.6.2)\n",
            "Requirement already satisfied: exceptiongroup in /usr/local/lib/python3.10/dist-packages (from anyio==3.7.1->-r /content/drive/My Drive/cs6353/assignments/assignment1//colab_requirements.txt (line 1)) (1.1.3)\n",
            "Requirement already satisfied: typing-extensions>=4.0.0 in /usr/local/lib/python3.10/dist-packages (from async-lru==2.0.4->-r /content/drive/My Drive/cs6353/assignments/assignment1//colab_requirements.txt (line 7)) (4.5.0)\n",
            "Collecting jupyter_client<8.0 (from -r /content/drive/My Drive/cs6353/assignments/assignment1//colab_requirements.txt (line 39))\n",
            "  Downloading jupyter_client-7.4.9-py3-none-any.whl (133 kB)\n",
            "\u001b[2K     \u001b[90m━━━━━━━━━━━━━━━━━━━━━━━━━━━━━━━━━━━━━━\u001b[0m \u001b[32m133.5/133.5 kB\u001b[0m \u001b[31m17.3 MB/s\u001b[0m eta \u001b[36m0:00:00\u001b[0m\n",
            "\u001b[?25hCollecting pyzmq<25 (from -r /content/drive/My Drive/cs6353/assignments/assignment1//colab_requirements.txt (line 78))\n",
            "  Downloading pyzmq-24.0.1-cp310-cp310-manylinux_2_17_x86_64.manylinux2014_x86_64.whl (1.1 MB)\n",
            "\u001b[2K     \u001b[90m━━━━━━━━━━━━━━━━━━━━━━━━━━━━━━━━━━━━━━━━\u001b[0m \u001b[32m1.1/1.1 MB\u001b[0m \u001b[31m84.6 MB/s\u001b[0m eta \u001b[36m0:00:00\u001b[0m\n",
            "\u001b[?25hRequirement already satisfied: tomli in /usr/local/lib/python3.10/dist-packages (from jupyterlab==4.0.5->-r /content/drive/My Drive/cs6353/assignments/assignment1//colab_requirements.txt (line 43)) (2.0.1)\n",
            "Requirement already satisfied: ipython-genutils in /usr/local/lib/python3.10/dist-packages (from ipykernel<=5.5.6->-r /content/drive/My Drive/cs6353/assignments/assignment1//colab_requirements.txt (line 28)) (0.2.0)\n",
            "Requirement already satisfied: setuptools>=18.5 in /usr/local/lib/python3.10/dist-packages (from ipython<=7.34.0->-r /content/drive/My Drive/cs6353/assignments/assignment1//colab_requirements.txt (line 29)) (67.7.2)\n",
            "Requirement already satisfied: entrypoints in /usr/local/lib/python3.10/dist-packages (from jupyter_client<8.0->-r /content/drive/My Drive/cs6353/assignments/assignment1//colab_requirements.txt (line 39)) (0.4)\n",
            "Installing collected packages: pytz, pure-eval, json5, executing, appnope, uri-template, tzdata, traitlets, soupsieve, rpds-py, rfc3986-validator, rfc3339-validator, pyzmq, python-json-logger, pyparsing, Pillow, overrides, mistune, jsonpointer, jedi, fqdn, debugpy, async-lru, asttokens, stack-data, matplotlib, jupyter_server_terminals, imageio, comm, beautifulsoup4, arrow, jupyter_client, isoduration, jupyter-events, nbconvert, jupyter_server, jupyterlab_server, jupyter-lsp, jupyterlab\n",
            "  Attempting uninstall: pytz\n",
            "    Found existing installation: pytz 2023.3.post1\n",
            "    Uninstalling pytz-2023.3.post1:\n",
            "      Successfully uninstalled pytz-2023.3.post1\n",
            "  Attempting uninstall: traitlets\n",
            "    Found existing installation: traitlets 5.7.1\n",
            "    Uninstalling traitlets-5.7.1:\n",
            "      Successfully uninstalled traitlets-5.7.1\n",
            "  Attempting uninstall: soupsieve\n",
            "    Found existing installation: soupsieve 2.5\n",
            "    Uninstalling soupsieve-2.5:\n",
            "      Successfully uninstalled soupsieve-2.5\n",
            "  Attempting uninstall: rpds-py\n",
            "    Found existing installation: rpds-py 0.10.2\n",
            "    Uninstalling rpds-py-0.10.2:\n",
            "      Successfully uninstalled rpds-py-0.10.2\n",
            "  Attempting uninstall: pyzmq\n",
            "    Found existing installation: pyzmq 23.2.1\n",
            "    Uninstalling pyzmq-23.2.1:\n",
            "      Successfully uninstalled pyzmq-23.2.1\n",
            "  Attempting uninstall: pyparsing\n",
            "    Found existing installation: pyparsing 3.1.1\n",
            "    Uninstalling pyparsing-3.1.1:\n",
            "      Successfully uninstalled pyparsing-3.1.1\n",
            "  Attempting uninstall: Pillow\n",
            "    Found existing installation: Pillow 9.4.0\n",
            "    Uninstalling Pillow-9.4.0:\n",
            "      Successfully uninstalled Pillow-9.4.0\n",
            "  Attempting uninstall: mistune\n",
            "    Found existing installation: mistune 0.8.4\n",
            "    Uninstalling mistune-0.8.4:\n",
            "      Successfully uninstalled mistune-0.8.4\n",
            "  Attempting uninstall: debugpy\n",
            "    Found existing installation: debugpy 1.6.6\n",
            "    Uninstalling debugpy-1.6.6:\n",
            "      Successfully uninstalled debugpy-1.6.6\n",
            "  Attempting uninstall: matplotlib\n",
            "    Found existing installation: matplotlib 3.7.1\n",
            "    Uninstalling matplotlib-3.7.1:\n",
            "      Successfully uninstalled matplotlib-3.7.1\n",
            "  Attempting uninstall: imageio\n",
            "    Found existing installation: imageio 2.31.3\n",
            "    Uninstalling imageio-2.31.3:\n",
            "      Successfully uninstalled imageio-2.31.3\n",
            "  Attempting uninstall: beautifulsoup4\n",
            "    Found existing installation: beautifulsoup4 4.11.2\n",
            "    Uninstalling beautifulsoup4-4.11.2:\n",
            "      Successfully uninstalled beautifulsoup4-4.11.2\n",
            "  Attempting uninstall: jupyter_client\n",
            "    Found existing installation: jupyter-client 6.1.12\n",
            "    Uninstalling jupyter-client-6.1.12:\n",
            "      Successfully uninstalled jupyter-client-6.1.12\n",
            "  Attempting uninstall: nbconvert\n",
            "    Found existing installation: nbconvert 6.5.4\n",
            "    Uninstalling nbconvert-6.5.4:\n",
            "      Successfully uninstalled nbconvert-6.5.4\n",
            "  Attempting uninstall: jupyter_server\n",
            "    Found existing installation: jupyter-server 1.24.0\n",
            "    Uninstalling jupyter-server-1.24.0:\n",
            "      Successfully uninstalled jupyter-server-1.24.0\n",
            "Successfully installed Pillow-10.0.0 appnope-0.1.3 arrow-1.2.3 asttokens-2.2.1 async-lru-2.0.4 beautifulsoup4-4.12.2 comm-0.1.4 debugpy-1.6.7.post1 executing-1.2.0 fqdn-1.5.1 imageio-2.31.1 isoduration-20.11.0 jedi-0.19.0 json5-0.9.14 jsonpointer-2.4 jupyter-events-0.7.0 jupyter-lsp-2.2.0 jupyter_client-7.4.9 jupyter_server-2.7.2 jupyter_server_terminals-0.4.4 jupyterlab-4.0.5 jupyterlab_server-2.24.0 matplotlib-3.7.2 mistune-3.0.1 nbconvert-7.7.4 overrides-7.4.0 pure-eval-0.2.2 pyparsing-3.0.9 python-json-logger-2.0.7 pytz-2023.3 pyzmq-24.0.1 rfc3339-validator-0.1.4 rfc3986-validator-0.1.1 rpds-py-0.9.2 soupsieve-2.4.1 stack-data-0.6.2 traitlets-5.9.0 tzdata-2023.3 uri-template-1.3.0\n"
          ]
        }
      ],
      "source": [
        "# This mounts your Google Drive to the Colab VM.\n",
        "from google.colab import drive\n",
        "drive.mount('/content/drive')\n",
        "\n",
        "# TODO: Enter the foldername in your Drive where you have saved the unzipped\n",
        "# assignment folder, e.g. 'cs6353/assignments/assignment1/'\n",
        "FOLDERNAME = 'cs6353/assignments/assignment1/'\n",
        "assert FOLDERNAME is not None, \"[!] Enter the foldername.\"\n",
        "\n",
        "# Now that we've mounted your Drive, this ensures that\n",
        "# the Python interpreter of the Colab VM can load\n",
        "# python files from within it.\n",
        "import sys\n",
        "sys.path.append('/content/drive/My Drive/{}'.format(FOLDERNAME))\n",
        "\n",
        "# This downloads the CIFAR-10 dataset to your Drive\n",
        "# if it doesn't already exist.\n",
        "%cd /content/drive/My\\ Drive/$FOLDERNAME/cs6353/datasets/\n",
        "!bash get_datasets.sh\n",
        "%cd /content/drive/My\\ Drive/$FOLDERNAME\n",
        "\n",
        "# Install requirements from colab_requirements.txt\n",
        "# TODO: Please change your path below to the colab_requirements.txt file\n",
        "! python -m pip install -r /content/drive/My\\ Drive/$FOLDERNAME/colab_requirements.txt"
      ]
    },
    {
      "cell_type": "markdown",
      "metadata": {
        "id": "rGI4RLfBiHEs"
      },
      "source": [
        "# Softmax exercise\n",
        "\n",
        "*Complete and hand in this completed worksheet (including its outputs and any supporting code outside of the worksheet) with your assignment submission. For more details see the [assignments page](https://utah.instructure.com/courses/919972/assignments/12590082) on the course website.*\n",
        "\n",
        "This exercise is analogous to the SVM exercise. You will:\n",
        "\n",
        "- implement a fully-vectorized **loss function** for the Softmax classifier\n",
        "- implement the fully-vectorized expression for its **analytic gradient**\n",
        "- **check your implementation** with numerical gradient\n",
        "- use a validation set to **tune the learning rate and regularization** strength\n",
        "- **optimize** the loss function with **SGD**\n",
        "- **visualize** the final learned weights\n"
      ]
    },
    {
      "cell_type": "code",
      "execution_count": 3,
      "metadata": {
        "id": "v_u9rwbsiHEu"
      },
      "outputs": [],
      "source": [
        "from __future__ import print_function\n",
        "import random\n",
        "import numpy as np\n",
        "from cs6353.data_utils import load_CIFAR10\n",
        "import matplotlib.pyplot as plt\n",
        "\n",
        "\n",
        "%matplotlib inline\n",
        "plt.rcParams['figure.figsize'] = (10.0, 8.0) # set default size of plots\n",
        "plt.rcParams['image.interpolation'] = 'nearest'\n",
        "plt.rcParams['image.cmap'] = 'gray'\n",
        "\n",
        "# for auto-reloading external modules\n",
        "# see http://stackoverflow.com/questions/1907993/autoreload-of-modules-in-ipython\n",
        "%load_ext autoreload\n",
        "%autoreload 2"
      ]
    },
    {
      "cell_type": "code",
      "execution_count": 4,
      "metadata": {
        "colab": {
          "base_uri": "https://localhost:8080/"
        },
        "id": "0V9kDc_SiHEu",
        "outputId": "a0b872cb-7dca-4d35-a8c8-5ba309f9a4fc"
      },
      "outputs": [
        {
          "output_type": "stream",
          "name": "stdout",
          "text": [
            "Train data shape:  (49000, 3073)\n",
            "Train labels shape:  (49000,)\n",
            "Validation data shape:  (1000, 3073)\n",
            "Validation labels shape:  (1000,)\n",
            "Test data shape:  (1000, 3073)\n",
            "Test labels shape:  (1000,)\n",
            "dev data shape:  (500, 3073)\n",
            "dev labels shape:  (500,)\n"
          ]
        }
      ],
      "source": [
        "def get_CIFAR10_data(num_training=49000, num_validation=1000, num_test=1000, num_dev=500):\n",
        "    \"\"\"\n",
        "    Load the CIFAR-10 dataset from disk and perform preprocessing to prepare\n",
        "    it for the linear classifier. These are the same steps as we used for the\n",
        "    SVM, but condensed to a single function.\n",
        "    \"\"\"\n",
        "    # Load the raw CIFAR-10 data\n",
        "    cifar10_dir = 'cs6353/datasets/cifar-10-batches-py'\n",
        "\n",
        "    X_train, y_train, X_test, y_test = load_CIFAR10(cifar10_dir)\n",
        "\n",
        "    # subsample the data\n",
        "    mask = list(range(num_training, num_training + num_validation))\n",
        "    X_val = X_train[mask]\n",
        "    y_val = y_train[mask]\n",
        "    mask = list(range(num_training))\n",
        "    X_train = X_train[mask]\n",
        "    y_train = y_train[mask]\n",
        "    mask = list(range(num_test))\n",
        "    X_test = X_test[mask]\n",
        "    y_test = y_test[mask]\n",
        "    mask = np.random.choice(num_training, num_dev, replace=False)\n",
        "    X_dev = X_train[mask]\n",
        "    y_dev = y_train[mask]\n",
        "\n",
        "    # Preprocessing: reshape the image data into rows\n",
        "    X_train = np.reshape(X_train, (X_train.shape[0], -1))\n",
        "    X_val = np.reshape(X_val, (X_val.shape[0], -1))\n",
        "    X_test = np.reshape(X_test, (X_test.shape[0], -1))\n",
        "    X_dev = np.reshape(X_dev, (X_dev.shape[0], -1))\n",
        "\n",
        "    # Normalize the data: subtract the mean image\n",
        "    mean_image = np.mean(X_train, axis = 0)\n",
        "    X_train -= mean_image\n",
        "    X_val -= mean_image\n",
        "    X_test -= mean_image\n",
        "    X_dev -= mean_image\n",
        "\n",
        "    # add bias dimension and transform into columns\n",
        "    X_train = np.hstack([X_train, np.ones((X_train.shape[0], 1))])\n",
        "    X_val = np.hstack([X_val, np.ones((X_val.shape[0], 1))])\n",
        "    X_test = np.hstack([X_test, np.ones((X_test.shape[0], 1))])\n",
        "    X_dev = np.hstack([X_dev, np.ones((X_dev.shape[0], 1))])\n",
        "\n",
        "    return X_train, y_train, X_val, y_val, X_test, y_test, X_dev, y_dev\n",
        "\n",
        "\n",
        "# Cleaning up variables to prevent loading data multiple times (which may cause memory issue)\n",
        "try:\n",
        "   del X_train, y_train\n",
        "   del X_test, y_test\n",
        "   print('Clear previously loaded data.')\n",
        "except:\n",
        "   pass\n",
        "\n",
        "# Invoke the above function to get our data.\n",
        "X_train, y_train, X_val, y_val, X_test, y_test, X_dev, y_dev = get_CIFAR10_data()\n",
        "print('Train data shape: ', X_train.shape)\n",
        "print('Train labels shape: ', y_train.shape)\n",
        "print('Validation data shape: ', X_val.shape)\n",
        "print('Validation labels shape: ', y_val.shape)\n",
        "print('Test data shape: ', X_test.shape)\n",
        "print('Test labels shape: ', y_test.shape)\n",
        "print('dev data shape: ', X_dev.shape)\n",
        "print('dev labels shape: ', y_dev.shape)"
      ]
    },
    {
      "cell_type": "markdown",
      "metadata": {
        "id": "X_JWKldbiHEv"
      },
      "source": [
        "## Softmax Classifier\n",
        "\n",
        "Your code for this section will all be written inside **cs6353/classifiers/softmax.py**.\n"
      ]
    },
    {
      "cell_type": "code",
      "execution_count": 6,
      "metadata": {
        "colab": {
          "base_uri": "https://localhost:8080/"
        },
        "id": "H1IFrnaNiHEv",
        "outputId": "c984b4eb-bdac-4e3e-ebcb-8b58a13d8bac"
      },
      "outputs": [
        {
          "output_type": "stream",
          "name": "stdout",
          "text": [
            "loss: 2.371556\n",
            "sanity check: 2.302585\n"
          ]
        }
      ],
      "source": [
        "# First implement the naive softmax loss function with nested loops.\n",
        "# Open the file cs6353/classifiers/softmax.py and implement the\n",
        "# softmax_loss_naive function.\n",
        "\n",
        "from cs6353.classifiers.softmax import softmax_loss_naive\n",
        "import time\n",
        "\n",
        "# Generate a random softmax weight matrix and use it to compute the loss.\n",
        "W = np.random.randn(3073, 10) * 0.0001\n",
        "loss, grad = softmax_loss_naive(W, X_dev, y_dev, 0.0)\n",
        "\n",
        "# As a rough sanity check, our loss should be something close to -log(0.1).\n",
        "print('loss: %f' % loss)\n",
        "print('sanity check: %f' % (-np.log(0.1)))"
      ]
    },
    {
      "cell_type": "markdown",
      "metadata": {
        "id": "CxkD0x3uiHEv"
      },
      "source": [
        "## Inline Question 1:\n",
        "Why do we expect our loss to be close to -log(0.1)? Explain briefly.**\n",
        "\n",
        "**Your answer:** At initialization, all the weights are close to zero and the probabilities will be approximately equal. They would sum to 1 and each value will be 1/C for C classes. In this case, C=10, so we can expect our loss to be -log(0.1)\n"
      ]
    },
    {
      "cell_type": "code",
      "execution_count": 7,
      "metadata": {
        "colab": {
          "base_uri": "https://localhost:8080/"
        },
        "id": "YKfeSA_-iHEw",
        "outputId": "04f9822e-d07c-48d7-83db-71dc84c4ce27"
      },
      "outputs": [
        {
          "output_type": "stream",
          "name": "stdout",
          "text": [
            "numerical: -0.845759 analytic: -0.845759, relative error: 6.740911e-08\n",
            "numerical: -1.844035 analytic: -1.844035, relative error: 1.932814e-08\n",
            "numerical: -0.211643 analytic: -0.211643, relative error: 2.220848e-07\n",
            "numerical: -1.325075 analytic: -1.325075, relative error: 2.385132e-08\n",
            "numerical: -0.876904 analytic: -0.876904, relative error: 2.071513e-08\n",
            "numerical: -0.456064 analytic: -0.456065, relative error: 2.526499e-08\n",
            "numerical: -0.781719 analytic: -0.781718, relative error: 4.322009e-09\n",
            "numerical: -1.158652 analytic: -1.158652, relative error: 4.118435e-09\n",
            "numerical: -1.683932 analytic: -1.683932, relative error: 1.710352e-08\n",
            "numerical: 0.344375 analytic: 0.344375, relative error: 2.946180e-08\n",
            "numerical: -0.053879 analytic: -0.053879, relative error: 3.659014e-07\n",
            "numerical: -1.508245 analytic: -1.508246, relative error: 1.865527e-08\n",
            "numerical: -0.254773 analytic: -0.254774, relative error: 3.212899e-07\n",
            "numerical: -0.667271 analytic: -0.667272, relative error: 6.804276e-08\n",
            "numerical: 0.464993 analytic: 0.464993, relative error: 1.150273e-07\n",
            "numerical: 0.229079 analytic: 0.229079, relative error: 3.825626e-08\n",
            "numerical: 0.300724 analytic: 0.300724, relative error: 6.123041e-08\n",
            "numerical: 0.643445 analytic: 0.643445, relative error: 1.894320e-08\n",
            "numerical: 1.516675 analytic: 1.516675, relative error: 1.667459e-08\n",
            "numerical: 0.600408 analytic: 0.600408, relative error: 8.516137e-09\n"
          ]
        }
      ],
      "source": [
        "# Complete the implementation of softmax_loss_naive and implement a (naive)\n",
        "# version of the gradient that uses nested loops.\n",
        "loss, grad = softmax_loss_naive(W, X_dev, y_dev, 0.0)\n",
        "\n",
        "# As we did for the SVM, use numeric gradient checking as a debugging tool.\n",
        "# The numeric gradient should be close to the analytic gradient.\n",
        "from cs6353.gradient_check import grad_check_sparse\n",
        "f = lambda w: softmax_loss_naive(w, X_dev, y_dev, 0.0)[0]\n",
        "grad_numerical = grad_check_sparse(f, W, grad, 10)\n",
        "\n",
        "# similar to SVM case, do another gradient check with regularization\n",
        "loss, grad = softmax_loss_naive(W, X_dev, y_dev, 5e1)\n",
        "f = lambda w: softmax_loss_naive(w, X_dev, y_dev, 5e1)[0]\n",
        "grad_numerical = grad_check_sparse(f, W, grad, 10)"
      ]
    },
    {
      "cell_type": "code",
      "execution_count": 8,
      "metadata": {
        "colab": {
          "base_uri": "https://localhost:8080/"
        },
        "id": "QPED-iXbiHEw",
        "outputId": "5b4ef1b1-2242-468c-b977-71d8e2093515"
      },
      "outputs": [
        {
          "output_type": "stream",
          "name": "stdout",
          "text": [
            "naive loss: 2.371556e+00 computed in 0.074661s\n",
            "vectorized loss: 2.371556e+00 computed in 0.025214s\n",
            "Loss difference: 0.000000\n",
            "Gradient difference: 0.000000\n"
          ]
        }
      ],
      "source": [
        "# Now that we have a naive implementation of the softmax loss function and its gradient,\n",
        "# implement a vectorized version in softmax_loss_vectorized.\n",
        "# The two versions should compute the same results, but the vectorized version should be\n",
        "# much faster.\n",
        "tic = time.time()\n",
        "loss_naive, grad_naive = softmax_loss_naive(W, X_dev, y_dev, 0.000005)\n",
        "toc = time.time()\n",
        "print('naive loss: %e computed in %fs' % (loss_naive, toc - tic))\n",
        "\n",
        "from cs6353.classifiers.softmax import softmax_loss_vectorized\n",
        "tic = time.time()\n",
        "loss_vectorized, grad_vectorized = softmax_loss_vectorized(W, X_dev, y_dev, 0.000005)\n",
        "toc = time.time()\n",
        "print('vectorized loss: %e computed in %fs' % (loss_vectorized, toc - tic))\n",
        "\n",
        "# As we did for the SVM, we use the Frobenius norm to compare the two versions\n",
        "# of the gradient.\n",
        "grad_difference = np.linalg.norm(grad_naive - grad_vectorized, ord='fro')\n",
        "print('Loss difference: %f' % np.abs(loss_naive - loss_vectorized))\n",
        "print('Gradient difference: %f' % grad_difference)"
      ]
    },
    {
      "cell_type": "code",
      "execution_count": 11,
      "metadata": {
        "colab": {
          "base_uri": "https://localhost:8080/"
        },
        "id": "V1sv26IpiHEw",
        "outputId": "b557bf36-75cc-4628-e81f-9598fc87d2e3"
      },
      "outputs": [
        {
          "output_type": "stream",
          "name": "stdout",
          "text": [
            "lr 1e-07 reg 1000.0 train accuracy: 0.2539183673469388 val accuracy: 0.234\n",
            "lr 1e-07 reg 10000.0 train accuracy: 0.34938775510204084 val accuracy: 0.37\n",
            "lr 1e-07 reg 25000.0 train accuracy: 0.32779591836734695 val accuracy: 0.338\n",
            "lr 1e-07 reg 30000.0 train accuracy: 0.33002040816326533 val accuracy: 0.346\n",
            "lr 1e-07 reg 50000.0 train accuracy: 0.31257142857142856 val accuracy: 0.323\n",
            "lr 2e-06 reg 1000.0 train accuracy: 0.38616326530612244 val accuracy: 0.409\n",
            "lr 2e-06 reg 10000.0 train accuracy: 0.332265306122449 val accuracy: 0.349\n",
            "lr 2e-06 reg 25000.0 train accuracy: 0.2969591836734694 val accuracy: 0.316\n",
            "lr 2e-06 reg 30000.0 train accuracy: 0.3010204081632653 val accuracy: 0.297\n",
            "lr 2e-06 reg 50000.0 train accuracy: 0.282265306122449 val accuracy: 0.295\n",
            "lr 2.5e-06 reg 1000.0 train accuracy: 0.38346938775510203 val accuracy: 0.389\n",
            "lr 2.5e-06 reg 10000.0 train accuracy: 0.34130612244897957 val accuracy: 0.349\n",
            "lr 2.5e-06 reg 25000.0 train accuracy: 0.28055102040816327 val accuracy: 0.289\n",
            "lr 2.5e-06 reg 30000.0 train accuracy: 0.2776530612244898 val accuracy: 0.292\n",
            "lr 2.5e-06 reg 50000.0 train accuracy: 0.2893877551020408 val accuracy: 0.276\n",
            "best validation accuracy achieved during cross-validation: 0.409\n"
          ]
        }
      ],
      "source": [
        "# Use the validation set to tune hyperparameters (regularization strength and\n",
        "# learning rate). You should experiment with different ranges for the learning\n",
        "# rates and regularization strengths; if you are careful you should be able to\n",
        "# get a classification accuracy of over 0.35 on the validation set.\n",
        "from cs6353.classifiers import Softmax\n",
        "results = {}\n",
        "best_val = -1\n",
        "best_softmax = None\n",
        "learning_rates = [1e-7, 2e-6, 2.5e-6]\n",
        "regularization_strengths = [1e3, 1e4, 2.5e4, 3e4, 5e4]\n",
        "\n",
        "################################################################################\n",
        "# TODO:                                                                        #\n",
        "# Use the validation set to set the learning rate and regularization strength. #\n",
        "# This should be identical to the validation that you did for the SVM; save    #\n",
        "# the best trained softmax classifier in best_softmax.                          #\n",
        "################################################################################\n",
        "\n",
        "for lr in learning_rates:\n",
        "  for reg in regularization_strengths:\n",
        "    softmax = Softmax()\n",
        "    softmax.train(X_train, y_train, learning_rate=lr, reg=reg, num_iters=1500)\n",
        "    y_train_pred = softmax.predict(X_train)\n",
        "    train_accuracy = np.mean(y_train == y_train_pred)\n",
        "    y_val_pred = softmax.predict(X_val)\n",
        "    val_accuracy = np.mean(y_val == y_val_pred)\n",
        "    results[(lr, reg)] = (train_accuracy, val_accuracy)\n",
        "    if best_val < val_accuracy:\n",
        "      best_val = val_accuracy\n",
        "      best_softmax = softmax\n",
        "\n",
        "################################################################################\n",
        "#                              END OF YOUR CODE                                #\n",
        "################################################################################\n",
        "\n",
        "# Print out results.\n",
        "for lr, reg in sorted(results):\n",
        "    train_accuracy, val_accuracy = results[(lr, reg)]\n",
        "    print('lr {} reg {} train accuracy: {} val accuracy: {}'.format(\n",
        "                lr, reg, train_accuracy, val_accuracy))\n",
        "\n",
        "print('best validation accuracy achieved during cross-validation: {}'.format(best_val))"
      ]
    },
    {
      "cell_type": "code",
      "execution_count": 13,
      "metadata": {
        "colab": {
          "base_uri": "https://localhost:8080/"
        },
        "id": "zyXZmPqIiHEx",
        "outputId": "cacf64ee-1511-47ae-8400-47dbca0b3aa4"
      },
      "outputs": [
        {
          "output_type": "stream",
          "name": "stdout",
          "text": [
            "softmax on raw pixels final test set accuracy: 0.365000\n"
          ]
        }
      ],
      "source": [
        "# evaluate on test set\n",
        "# Evaluate the best softmax on test set\n",
        "y_test_pred = best_softmax.predict(X_test)\n",
        "test_accuracy = np.mean(y_test == y_test_pred)\n",
        "print('softmax on raw pixels final test set accuracy: %f' % (test_accuracy, ))"
      ]
    },
    {
      "cell_type": "markdown",
      "metadata": {
        "id": "-sxBCT5EiHEx"
      },
      "source": [
        "**Inline Question** - *True or False*\n",
        "\n",
        "It's possible to add a new data point to a training set that would leave the SVM loss unchanged, but this is not the case with the Softmax classifier loss.\n",
        "\n",
        "*Your answer*: True\n",
        "\n",
        "*Your explanation*: The SVM has margin, it is robust to a small change to the data. So if the case is that, the new datapoint falss into the safe side of the margin, then it won't change the loss function as well as the f. However, the Softmax does not have such margin, it is sensitive to the change of the dataset."
      ]
    },
    {
      "cell_type": "code",
      "execution_count": 14,
      "metadata": {
        "colab": {
          "base_uri": "https://localhost:8080/",
          "height": 528
        },
        "id": "HkpCgUQHiHEx",
        "outputId": "85c482e3-f1ca-4266-b878-afde8b3908e2"
      },
      "outputs": [
        {
          "output_type": "display_data",
          "data": {
            "text/plain": [
              "<Figure size 1000x800 with 10 Axes>"
            ],
            "image/png": "[encoded data removed]"
          },
          "metadata": {}
        }
      ],
      "source": [
        "# Visualize the learned weights for each class\n",
        "w = best_softmax.W[:-1,:] # strip out the bias\n",
        "w = w.reshape(32, 32, 3, 10)\n",
        "\n",
        "w_min, w_max = np.min(w), np.max(w)\n",
        "\n",
        "classes = ['plane', 'car', 'bird', 'cat', 'deer', 'dog', 'frog', 'horse', 'ship', 'truck']\n",
        "for i in range(10):\n",
        "    plt.subplot(2, 5, i + 1)\n",
        "\n",
        "    # Rescale the weights to be between 0 and 255\n",
        "    wimg = 255.0 * (w[:, :, :, i].squeeze() - w_min) / (w_max - w_min)\n",
        "    plt.imshow(wimg.astype('uint8'))\n",
        "    plt.axis('off')\n",
        "    plt.title(classes[i])"
      ]
    }
  ],
  "metadata": {
    "kernelspec": {
      "display_name": "Python 3",
      "name": "python3"
    },
    "language_info": {
      "codemirror_mode": {
        "name": "ipython",
        "version": 3
      },
      "file_extension": ".py",
      "mimetype": "text/x-python",
      "name": "python",
      "nbconvert_exporter": "python",
      "pygments_lexer": "ipython3",
      "version": "3.6.9"
    },
    "colab": {
      "provenance": [],
      "gpuType": "T4",
      "include_colab_link": true
    },
    "accelerator": "GPU"
  },
  "nbformat": 4,
  "nbformat_minor": 0
}